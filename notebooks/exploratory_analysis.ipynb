{
 "cells": [
  {
   "cell_type": "markdown",
   "metadata": {},
   "source": [
    "# Brisbane Flood Data Exploratory Analysis\n",
    "\n",
    "This notebook explores flood-related data for Brisbane, including rainfall, water levels, and topographic information."
   ]
  },
  {
   "cell_type": "code",
   "execution_count": null,
   "metadata": {},
   "source": [
    "# Import necessary libraries\n",
    "import pandas as pd\n",
    "import numpy as np\n",
    "import matplotlib.pyplot as plt\n",
    "import seaborn as sns\n",
    "import os\n",
    "from pathlib import Path\n",
    "\n",
    "# Set plotting style\n",
    "plt.style.use('ggplot')\n",
    "sns.set_context('notebook')\n",
    "\n",
    "# Display settings\n",
    "%matplotlib inline\n",
    "pd.set_option('display.max_columns', None)"
   ]
  },
  {
   "cell_type": "markdown",
   "metadata": {},
   "source": [
    "## Data Loading\n",
    "\n",
    "First, let's set up paths to our data directories and load sample data."
   ]
  },
  {
   "cell_type": "code",
   "execution_count": null,
   "metadata": {},
   "source": [
    "# Set up project paths\n",
    "project_root = Path().absolute().parent\n",
    "raw_data_dir = project_root / 'data' / 'raw'\n",
    "processed_data_dir = project_root / 'data' / 'processed'\n",
    "geo_data_dir = project_root / 'data' / 'geo'\n",
    "\n",
    "print(f\"Project root: {project_root}\")\n",
    "print(f\"Raw data directory: {raw_data_dir}\")\n",
    "print(f\"Processed data directory: {processed_data_dir}\")\n",
    "print(f\"Geo data directory: {geo_data_dir}\")"
   ]
  },
  {
   "cell_type": "markdown",
   "metadata": {},
   "source": [
    "## Sample Data Creation\n",
    "\n",
    "Since we don't have actual data yet, let's create some sample data for exploration."
   ]
  },
  {
   "cell_type": "code",
   "execution_count": null,
   "metadata": {},
   "source": [
    "# Create sample rainfall data\n",
    "def create_sample_rainfall_data(start_date='2022-01-01', end_date='2022-03-31'):\n",
    "    \"\"\"Create sample daily rainfall data for Brisbane.\"\"\"\n",
    "    date_range = pd.date_range(start=start_date, end=end_date, freq='D')\n",
    "    \n",
    "    # Create base rainfall with seasonal pattern\n",
    "    rainfall = np.random.gamma(shape=0.5, scale=2.0, size=len(date_range))\n",
    "    \n",
    "    # Add some heavy rainfall events\n",
    "    heavy_rain_indices = np.random.choice(len(date_range), size=5, replace=False)\n",
    "    rainfall[heavy_rain_indices] += np.random.gamma(shape=5.0, scale=10.0, size=5)\n",
    "    \n",
    "    # Create DataFrame\n",
    "    df = pd.DataFrame({\n",
    "        'date': date_range,\n",
    "        'rainfall_mm': rainfall\n",
    "    })\n",
    "    \n",
    "    return df\n",
    "\n",
    "# Create sample river level data\n",
    "def create_sample_river_data(start_date='2022-01-01', end_date='2022-03-31'):\n",
    "    \"\"\"Create sample daily river level data for Brisbane River.\"\"\"\n",
    "    date_range = pd.date_range(start=start_date, end=end_date, freq='D')\n",
    "    \n",
    "    # Base river level with some randomness\n",
    "    base_level = 1.0 + 0.2 * np.sin(np.linspace(0, 4*np.pi, len(date_range)))\n",
    "    noise = np.random.normal(0, 0.05, len(date_range))\n",
    "    river_level = base_level + noise\n",
    "    \n",
    "    # Create flood events with lag after heavy rainfall\n",
    "    flood_indices = (heavy_rain_indices + 1) % len(date_range)  # Day after heavy rain\n",
    "    river_level[flood_indices] += np.random.uniform(1.0, 3.0, size=len(flood_indices))\n",
    "    \n",
    "    # Decay flood levels over next few days\n",
    "    for i in flood_indices:\n",
    "        for j in range(1, 6):\n",
    "            idx = (i + j) % len(date_range)\n",
    "            river_level[idx] += max(0, river_level[i] * 0.8**j)\n",
    "    \n",
    "    # Create DataFrame\n",
    "    df = pd.DataFrame({\n",
    "        'date': date_range,\n",
    "        'river_level_m': river_level\n",
    "    })\n",
    "    \n",
    "    return df\n",
    "\n",
    "# Generate sample data\n",
    "rainfall_data = create_sample_rainfall_data()\n",
    "river_data = create_sample_river_data()\n",
    "\n",
    "# Merge datasets\n",
    "flood_data = pd.merge(rainfall_data, river_data, on='date')\n",
    "\n",
    "# Display the first few rows\n",
    "flood_data.head()"
   ]
  },
  {
   "cell_type": "markdown",
   "metadata": {},
   "source": [
    "## Data Visualization\n",
    "\n",
    "Let's visualize the relationship between rainfall and river levels."
   ]
  },
  {
   "cell_type": "code",
   "execution_count": null,
   "metadata": {},
   "source": [
    "# Plot rainfall and river level time series\n",
    "fig, (ax1, ax2) = plt.subplots(2, 1, figsize=(14, 8), sharex=True)\n",
    "\n",
    "# Rainfall plot\n",
    "ax1.bar(flood_data['date'], flood_data['rainfall_mm'], color='skyblue', alpha=0.7)\n",
    "ax1.set_ylabel('Rainfall (mm)')\n",
    "ax1.set_title('Daily Rainfall in Brisbane')\n",
    "\n",
    "# River level plot\n",
    "ax2.plot(flood_data['date'], flood_data['river_level_m'], color='navy', linewidth=2)\n",
    "ax2.axhline(y=3.5, color='red', linestyle='--', alpha=0.7, label='Minor Flood Level')\n",
    "ax2.axhline(y=4.5, color='orange', linestyle='--', alpha=0.7, label='Moderate Flood Level')\n",
    "ax2.axhline(y=5.5, color='darkred', linestyle='--', alpha=0.7, label='Major Flood Level')\n",
    "ax2.set_ylabel('River Level (m)')\n",
    "ax2.set_title('Brisbane River Level')\n",
    "ax2.legend()\n",
    "\n",
    "plt.tight_layout()\n",
    "plt.show()"
   ]
  },
  {
   "cell_type": "code",
   "execution_count": null,
   "metadata": {},
   "source": [
    "# Scatter plot of rainfall vs river level\n",
    "plt.figure(figsize=(10, 6))\n",
    "sns.scatterplot(x='rainfall_mm', y='river_level_m', data=flood_data, alpha=0.7)\n",
    "plt.title('Relationship Between Rainfall and River Level')\n",
    "plt.xlabel('Rainfall (mm)')\n",
    "plt.ylabel('River Level (m)')\n",
    "plt.grid(True, alpha=0.3)\n",
    "plt.show()"
   ]
  },
  {
   "cell_type": "markdown",
   "metadata": {},
   "source": [
    "## Lag Analysis\n",
    "\n",
    "Let's examine the lag effect between rainfall and river level changes."
   ]
  },
  {
   "cell_type": "code",
   "execution_count": null,
   "metadata": {},
   "source": [
    "# Create lagged features\n",
    "for lag in range(1, 6):\n",
    "    flood_data[f'rainfall_lag_{lag}d'] = flood_data['rainfall_mm'].shift(lag)\n",
    "\n",
    "# Drop NaN values\n",
    "flood_data_lag = flood_data.dropna()\n",
    "\n",
    "# Display the first few rows\n",
    "flood_data_lag.head()"
   ]
  },
  {
   "cell_type": "code",
   "execution_count": null,
   "metadata": {},
   "source": [
    "# Calculate correlation matrix\n",
    "correlation = flood_data_lag.corr()\n",
    "\n",
    "# Plot correlation heatmap\n",
    "plt.figure(figsize=(10, 8))\n",
    "sns.heatmap(correlation, annot=True, cmap='coolwarm', vmin=-1, vmax=1, fmt='.2f')\n",
    "plt.title('Correlation Matrix: Rainfall and River Level with Lags')\n",
    "plt.tight_layout()\n",
    "plt.show()"
   ]
  },
  {
   "cell_type": "markdown",
   "metadata": {},
   "source": [
    "## Flood Event Analysis\n",
    "\n",
    "Let's identify and analyze flood events in our sample data."
   ]
  },
  {
   "cell_type": "code",
   "execution_count": null,
   "metadata": {},
   "source": [
    "# Define flood thresholds\n",
    "minor_flood = 3.5\n",
    "moderate_flood = 4.5\n",
    "major_flood = 5.5\n",
    "\n",
    "# Classify flood levels\n",
    "flood_data['flood_category'] = pd.cut(\n",
    "    flood_data['river_level_m'],\n",
    "    bins=[-float('inf'), minor_flood, moderate_flood, major_flood, float('inf')],\n",
    "    labels=['No Flood', 'Minor', 'Moderate', 'Major']\n",
    ")\n",
    "\n",
    "# Count days in each flood category\n",
    "flood_counts = flood_data['flood_category'].value_counts().sort_index()\n",
    "\n",
    "# Plot flood category distribution\n",
    "plt.figure(figsize=(10, 6))\n",
    "flood_counts.plot(kind='bar', color=['green', 'yellow', 'orange', 'red'])\n",
    "plt.title('Distribution of Flood Categories')\n",
    "plt.xlabel('Flood Category')\n",
    "plt.ylabel('Number of Days')\n",
    "plt.grid(axis='y', alpha=0.3)\n",
    "plt.show()"
   ]
  },
  {
   "cell_type": "markdown",
   "metadata": {},
   "source": [
    "## Cumulative Rainfall Analysis\n",
    "\n",
    "Let's analyze the effect of cumulative rainfall on flood events."
   ]
  },
  {
   "cell_type": "code",
   "execution_count": null,
   "metadata": {},
   "source": [
    "# Calculate rolling sum of rainfall (3-day and 7-day windows)\n",
    "flood_data['rainfall_3d_sum'] = flood_data['rainfall_mm'].rolling(window=3).sum()\n",
    "flood_data['rainfall_7d_sum'] = flood_data['rainfall_mm'].rolling(window=7).sum()\n",
    "\n",
    "# Plot cumulative rainfall vs river level\n",
    "fig, (ax1, ax2) = plt.subplots(1, 2, figsize=(16, 6))\n",
    "\n",
    "# 3-day cumulative rainfall\n",
    "sns.scatterplot(x='rainfall_3d_sum', y='river_level_m', \n",
    "                hue='flood_category', data=flood_data.dropna(),\n",
    "                palette=['green', 'yellow', 'orange', 'red'], ax=ax1)\n",
    "ax1.set_title('3-Day Cumulative Rainfall vs River Level')\n",
    "ax1.set_xlabel('3-Day Cumulative Rainfall (mm)')\n",
    "ax1.set_ylabel('River Level (m)')\n",
    "ax1.grid(True, alpha=0.3)\n",
    "\n",
    "# 7-day cumulative rainfall\n",
    "sns.scatterplot(x='rainfall_7d_sum', y='river_level_m', \n",
    "                hue='flood_category', data=flood_data.dropna(),\n",
    "                palette=['green', 'yellow', 'orange', 'red'], ax=ax2)\n",
    "ax2.set_title('7-Day Cumulative Rainfall vs River Level')\n",
    "ax2.set_xlabel('7-Day Cumulative Rainfall (mm)')\n",
    "ax2.set_ylabel('River Level (m)')\n",
    "ax2.grid(True, alpha=0.3)\n",
    "\n",
    "plt.tight_layout()\n",
    "plt.show()"
   ]
  },
  {
   "cell_type": "markdown",
   "metadata": {},
   "source": [
    "## Next Steps\n",
    "\n",
    "Based on this exploratory analysis, here are the next steps for our project:\n",
    "\n",
    "1. **Data Collection**:\n",
    "   - Obtain real rainfall data from BOM for Brisbane area stations\n",
    "   - Collect river level data from multiple gauging stations\n",
    "   - Acquire dam release information from SEQ Water\n",
    "   - Download high-resolution DEM data for Brisbane\n",
    "\n",
    "2. **Data Processing**:\n",
    "   - Clean and standardize all data sources\n",
    "   - Implement proper time-series alignment\n",
    "   - Calculate derived features (cumulative rainfall, rate of change, etc.)\n",
    "\n",
    "3. **Modeling**:\n",
    "   - Develop regression models to predict river levels from rainfall data\n",
    "   - Implement time-series forecasting for flood prediction\n",
    "   - Create flood extent models using DEM data\n",
    "\n",
    "4. **Visualization**:\n",
    "   - Implement interactive maps showing flood extents\n",
    "   - Create time-series visualizations of historical events\n",
    "   - Develop dashboards for monitoring current conditions"
   ]
  }
 ],
 "metadata": {
  "kernelspec": {
   "display_name": "Python 3",
   "language": "python",
   "name": "python3"
  },
  "language_info": {
   "codemirror_mode": {
    "name": "ipython",
    "version": 3
   },
   "file_extension": ".py",
   "mimetype": "text/x-python",
   "name": "python",
   "nbconvert_exporter": "python",
   "pygments_lexer": "ipython3",
   "version": "3.9.13"
  }
 },
 "nbformat": 4,
 "nbformat_minor": 4
}
